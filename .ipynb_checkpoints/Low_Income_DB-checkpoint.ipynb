{
 "cells": [
  {
   "cell_type": "code",
   "execution_count": 1,
   "id": "392e9ba5",
   "metadata": {},
   "outputs": [],
   "source": [
    "from pymongo import MongoClient\n",
    "from pprint import pprint\n",
    " # Create an instance of MongoClient\n",
    "mongo = MongoClient(port=27017)"
   ]
  },
  {
   "cell_type": "code",
   "execution_count": 2,
   "id": "dde5093d",
   "metadata": {},
   "outputs": [
    {
     "name": "stdout",
     "output_type": "stream",
     "text": [
      "['admin', 'classDB', 'config', 'epa', 'local', 'low_income_data', 'met', 'mydb']\n"
     ]
    }
   ],
   "source": [
    " # confirm that our new database was created\n",
    "print(mongo.list_database_names())\n"
   ]
  },
  {
   "cell_type": "code",
   "execution_count": 3,
   "id": "268cb905",
   "metadata": {},
   "outputs": [
    {
     "name": "stdout",
     "output_type": "stream",
     "text": [
      "['LIHTCdatasetlatlong']\n"
     ]
    }
   ],
   "source": [
    " # assign the uk_food database to a variable name\n",
    "db = mongo['low_income_data']\n",
    "print(db.list_collection_names())"
   ]
  },
  {
   "cell_type": "code",
   "execution_count": 4,
   "id": "c7b39d16",
   "metadata": {},
   "outputs": [
    {
     "name": "stdout",
     "output_type": "stream",
     "text": [
      "{'Compliance Monitoring Status': 'Not Indicated',\n",
      " 'HUD ID Number:': 'ORA00000002',\n",
      " 'Project Address:': '11908 SE ANKENY ST',\n",
      " 'Project City:': 'PORTLAND',\n",
      " 'Project Name:': 'ANKENY WOODS ARMS',\n",
      " 'Project State:': 'OR',\n",
      " 'Project ZIP Code:': 97216,\n",
      " \"Project's Latitude:\": 45.521598815918,\n",
      " \"Project's Longitude:\": -122.5401306152,\n",
      " 'Total Low-Income Units:': '',\n",
      " 'Total Number of Units:': 40.0,\n",
      " 'Unique 2010 Census Tract Identifier Code:': 41051008202,\n",
      " '_id': ObjectId('64ae1b2bb4c3925a3f8ac638')}\n"
     ]
    }
   ],
   "source": [
    "pprint(db.LIHTCdatasetlatlong.find_one())"
   ]
  },
  {
   "cell_type": "code",
   "execution_count": null,
   "id": "79eec27d",
   "metadata": {},
   "outputs": [],
   "source": []
  },
  {
   "cell_type": "code",
   "execution_count": null,
   "id": "4ec5aea3",
   "metadata": {},
   "outputs": [],
   "source": []
  },
  {
   "cell_type": "code",
   "execution_count": null,
   "id": "2103dd82",
   "metadata": {},
   "outputs": [],
   "source": []
  },
  {
   "cell_type": "code",
   "execution_count": null,
   "id": "8ea314a6",
   "metadata": {},
   "outputs": [],
   "source": []
  },
  {
   "cell_type": "code",
   "execution_count": null,
   "id": "5467c184",
   "metadata": {},
   "outputs": [],
   "source": []
  },
  {
   "cell_type": "code",
   "execution_count": null,
   "id": "3f91ab12",
   "metadata": {},
   "outputs": [],
   "source": []
  },
  {
   "cell_type": "code",
   "execution_count": null,
   "id": "7681232e",
   "metadata": {},
   "outputs": [],
   "source": []
  },
  {
   "cell_type": "code",
   "execution_count": null,
   "id": "50e31e2d",
   "metadata": {},
   "outputs": [],
   "source": []
  }
 ],
 "metadata": {
  "kernelspec": {
   "display_name": "Python 3 (ipykernel)",
   "language": "python",
   "name": "python3"
  },
  "language_info": {
   "codemirror_mode": {
    "name": "ipython",
    "version": 3
   },
   "file_extension": ".py",
   "mimetype": "text/x-python",
   "name": "python",
   "nbconvert_exporter": "python",
   "pygments_lexer": "ipython3",
   "version": "3.9.13"
  }
 },
 "nbformat": 4,
 "nbformat_minor": 5
}
