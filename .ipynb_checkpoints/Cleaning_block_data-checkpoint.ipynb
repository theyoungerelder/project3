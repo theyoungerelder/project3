{
 "cells": [
  {
   "cell_type": "code",
   "execution_count": 1,
   "id": "6fecc8eb",
   "metadata": {},
   "outputs": [],
   "source": [
    "import pandas as pd\n",
    "from pathlib import Path\n",
    "import numpy as np\n",
    "import matplotlib.pyplot as plt\n",
    "import warnings\n",
    "warnings.filterwarnings(\"ignore\")"
   ]
  },
  {
   "cell_type": "code",
   "execution_count": 2,
   "id": "25b004e0",
   "metadata": {},
   "outputs": [],
   "source": [
    "ltm_income_to_load = Path(\"Resources/Low_to_Moderate_Income_Population_by_Block_Group.csv\")\n",
    "\n",
    "low_to_mod_data = pd.read_csv(ltm_income_to_load)"
   ]
  },
  {
   "cell_type": "code",
   "execution_count": 4,
   "id": "c4d7a0e8",
   "metadata": {},
   "outputs": [
    {
     "data": {
      "text/html": [
       "<div>\n",
       "<style scoped>\n",
       "    .dataframe tbody tr th:only-of-type {\n",
       "        vertical-align: middle;\n",
       "    }\n",
       "\n",
       "    .dataframe tbody tr th {\n",
       "        vertical-align: top;\n",
       "    }\n",
       "\n",
       "    .dataframe thead th {\n",
       "        text-align: right;\n",
       "    }\n",
       "</style>\n",
       "<table border=\"1\" class=\"dataframe\">\n",
       "  <thead>\n",
       "    <tr style=\"text-align: right;\">\n",
       "      <th></th>\n",
       "      <th>OBJECTID</th>\n",
       "      <th>GEOID</th>\n",
       "      <th>Source</th>\n",
       "      <th>geoname</th>\n",
       "      <th>Stusab</th>\n",
       "      <th>Countyname</th>\n",
       "      <th>State</th>\n",
       "      <th>County</th>\n",
       "      <th>Tract</th>\n",
       "      <th>BLKGRP</th>\n",
       "      <th>...</th>\n",
       "      <th>Lowmod</th>\n",
       "      <th>Lmmi</th>\n",
       "      <th>Lowmoduniv</th>\n",
       "      <th>Lowmod_pct</th>\n",
       "      <th>uclowmod</th>\n",
       "      <th>ucLowmod_p</th>\n",
       "      <th>MOE_LOWMOD_PCT</th>\n",
       "      <th>MOE_UCLOWMOD_PCT</th>\n",
       "      <th>SHAPE_Length</th>\n",
       "      <th>SHAPE_Area</th>\n",
       "    </tr>\n",
       "  </thead>\n",
       "  <tbody>\n",
       "    <tr>\n",
       "      <th>0</th>\n",
       "      <td>1</td>\n",
       "      <td>10010201001</td>\n",
       "      <td>2015ACS</td>\n",
       "      <td>Block Group 1, Census Tract 201, Autauga Count...</td>\n",
       "      <td>AL</td>\n",
       "      <td>Autauga County</td>\n",
       "      <td>1</td>\n",
       "      <td>1</td>\n",
       "      <td>20100</td>\n",
       "      <td>1</td>\n",
       "      <td>...</td>\n",
       "      <td>230</td>\n",
       "      <td>440</td>\n",
       "      <td>650</td>\n",
       "      <td>0.3538</td>\n",
       "      <td></td>\n",
       "      <td>0.0</td>\n",
       "      <td>+/-17.38</td>\n",
       "      <td></td>\n",
       "      <td>0.110807</td>\n",
       "      <td>0.00041</td>\n",
       "    </tr>\n",
       "  </tbody>\n",
       "</table>\n",
       "<p>1 rows × 21 columns</p>\n",
       "</div>"
      ],
      "text/plain": [
       "   OBJECTID        GEOID   Source  \\\n",
       "0         1  10010201001  2015ACS   \n",
       "\n",
       "                                             geoname Stusab      Countyname  \\\n",
       "0  Block Group 1, Census Tract 201, Autauga Count...     AL  Autauga County   \n",
       "\n",
       "   State  County  Tract  BLKGRP  ... Lowmod Lmmi Lowmoduniv Lowmod_pct  \\\n",
       "0      1       1  20100       1  ...    230  440        650     0.3538   \n",
       "\n",
       "   uclowmod ucLowmod_p  MOE_LOWMOD_PCT MOE_UCLOWMOD_PCT SHAPE_Length  \\\n",
       "0                  0.0        +/-17.38                      0.110807   \n",
       "\n",
       "   SHAPE_Area  \n",
       "0     0.00041  \n",
       "\n",
       "[1 rows x 21 columns]"
      ]
     },
     "execution_count": 4,
     "metadata": {},
     "output_type": "execute_result"
    }
   ],
   "source": [
    "low_to_mod_data.head(1)"
   ]
  },
  {
   "cell_type": "code",
   "execution_count": 5,
   "id": "dea684c2",
   "metadata": {},
   "outputs": [],
   "source": [
    "##Created df for all of oregon\n",
    "updated_data = low_to_mod_data.query(\"Stusab == 'OR'\")"
   ]
  },
  {
   "cell_type": "code",
   "execution_count": 6,
   "id": "be6ce257",
   "metadata": {},
   "outputs": [],
   "source": [
    "##Created df for Multnomah County\n",
    "updated_data = low_to_mod_data.query(\"Countyname == 'Multnomah County'\")"
   ]
  },
  {
   "cell_type": "code",
   "execution_count": 7,
   "id": "b002a56b",
   "metadata": {},
   "outputs": [
    {
     "name": "stdout",
     "output_type": "stream",
     "text": [
      "['OR']\n"
     ]
    }
   ],
   "source": [
    "unique_names = updated_data['Stusab'].unique()\n",
    "print(unique_names)"
   ]
  },
  {
   "cell_type": "code",
   "execution_count": 9,
   "id": "495b8cb2",
   "metadata": {},
   "outputs": [
    {
     "name": "stdout",
     "output_type": "stream",
     "text": [
      "['Multnomah County']\n"
     ]
    }
   ],
   "source": [
    "unique_names = updated_data['Countyname'].unique()\n",
    "print(unique_names)"
   ]
  },
  {
   "cell_type": "code",
   "execution_count": 15,
   "id": "64e67d04",
   "metadata": {},
   "outputs": [],
   "source": [
    "#Dropped unneccessary columns, may drop more later\n",
    "columns_to_drop = ['Source','uclowmod', 'ucLowmod_p', 'MOE_LOWMOD_PCT', 'MOE_UCLOWMOD_PCT','Lmmi']\n",
    "updated_data= updated_data.drop(columns=columns_to_drop)"
   ]
  },
  {
   "cell_type": "code",
   "execution_count": 17,
   "id": "d254fe46",
   "metadata": {},
   "outputs": [
    {
     "name": "stdout",
     "output_type": "stream",
     "text": [
      "['OBJECTID', 'GEOID', 'geoname', 'Stusab', 'Countyname', 'State', 'County', 'Tract', 'BLKGRP', 'Low', 'Lowmod', 'Lowmoduniv', 'Lowmod_pct', 'SHAPE_Length', 'SHAPE_Area']\n"
     ]
    }
   ],
   "source": [
    "column_names = updated_data.columns.tolist()\n",
    "print(column_names)"
   ]
  },
  {
   "cell_type": "code",
   "execution_count": 18,
   "id": "e7e1cc76",
   "metadata": {},
   "outputs": [
    {
     "name": "stdout",
     "output_type": "stream",
     "text": [
      "BLKGRP: 6\n",
      "Percentage of Low income to Lowmod income: 31.25\n",
      "---------------------------------------\n",
      "BLKGRP: 7\n",
      "Percentage of Low income to Lowmod income: 46.06741573033708\n",
      "---------------------------------------\n",
      "BLKGRP: 5\n",
      "Percentage of Low income to Lowmod income: 62.21060492905153\n",
      "---------------------------------------\n",
      "BLKGRP: 3\n",
      "Percentage of Low income to Lowmod income: 63.515358361774744\n",
      "---------------------------------------\n",
      "BLKGRP: 4\n",
      "Percentage of Low income to Lowmod income: 64.34745030250649\n",
      "---------------------------------------\n",
      "BLKGRP: 2\n",
      "Percentage of Low income to Lowmod income: 64.82797226887138\n",
      "---------------------------------------\n",
      "BLKGRP: 1\n",
      "Percentage of Low income to Lowmod income: 65.7513258691809\n",
      "---------------------------------------\n"
     ]
    }
   ],
   "source": [
    "#Percentage of Low income compared to Low to Mod\n",
    "grouped_data_low = updated_data.groupby('BLKGRP')\n",
    "\n",
    "result = []\n",
    "\n",
    "for blkgrp, data in grouped_data_low:\n",
    "    total_low_income = data['Low'].sum()\n",
    "    total_lowmod_income = data['Lowmod'].sum()\n",
    "    percentage = (total_low_income / total_lowmod_income) * 100\n",
    "    result.append((blkgrp, percentage))\n",
    "\n",
    "sorted_result = sorted(result, key=lambda x: x[1])\n",
    "\n",
    "for blkgrp, percentage in sorted_result:\n",
    "    print(\"BLKGRP:\", blkgrp)\n",
    "    print(\"Percentage of Low income to Lowmod income:\", percentage)\n",
    "    print(\"---------------------------------------\")"
   ]
  },
  {
   "cell_type": "code",
   "execution_count": 20,
   "id": "fabf36c6",
   "metadata": {},
   "outputs": [
    {
     "data": {
      "text/html": [
       "<div>\n",
       "<style scoped>\n",
       "    .dataframe tbody tr th:only-of-type {\n",
       "        vertical-align: middle;\n",
       "    }\n",
       "\n",
       "    .dataframe tbody tr th {\n",
       "        vertical-align: top;\n",
       "    }\n",
       "\n",
       "    .dataframe thead th {\n",
       "        text-align: right;\n",
       "    }\n",
       "</style>\n",
       "<table border=\"1\" class=\"dataframe\">\n",
       "  <thead>\n",
       "    <tr style=\"text-align: right;\">\n",
       "      <th></th>\n",
       "      <th>OBJECTID</th>\n",
       "      <th>GEOID</th>\n",
       "      <th>geoname</th>\n",
       "      <th>Stusab</th>\n",
       "      <th>Countyname</th>\n",
       "      <th>State</th>\n",
       "      <th>County</th>\n",
       "      <th>Tract</th>\n",
       "      <th>BLKGRP</th>\n",
       "      <th>Low</th>\n",
       "      <th>Lowmod</th>\n",
       "      <th>Lowmoduniv</th>\n",
       "      <th>Lowmod_pct</th>\n",
       "      <th>SHAPE_Length</th>\n",
       "      <th>SHAPE_Area</th>\n",
       "      <th>Low_vs_Lowmod_pct</th>\n",
       "    </tr>\n",
       "  </thead>\n",
       "  <tbody>\n",
       "    <tr>\n",
       "      <th>163646</th>\n",
       "      <td>163647</td>\n",
       "      <td>410510001001</td>\n",
       "      <td>Block Group 1, Census Tract 1, Multnomah Count...</td>\n",
       "      <td>OR</td>\n",
       "      <td>Multnomah County</td>\n",
       "      <td>41</td>\n",
       "      <td>51</td>\n",
       "      <td>100</td>\n",
       "      <td>1</td>\n",
       "      <td>40</td>\n",
       "      <td>125</td>\n",
       "      <td>625</td>\n",
       "      <td>0.2</td>\n",
       "      <td>0.100076</td>\n",
       "      <td>0.00047</td>\n",
       "      <td>65.751326</td>\n",
       "    </tr>\n",
       "  </tbody>\n",
       "</table>\n",
       "</div>"
      ],
      "text/plain": [
       "        OBJECTID         GEOID  \\\n",
       "163646    163647  410510001001   \n",
       "\n",
       "                                                  geoname Stusab  \\\n",
       "163646  Block Group 1, Census Tract 1, Multnomah Count...     OR   \n",
       "\n",
       "              Countyname  State  County  Tract  BLKGRP Low Lowmod Lowmoduniv  \\\n",
       "163646  Multnomah County     41      51    100       1  40    125        625   \n",
       "\n",
       "        Lowmod_pct  SHAPE_Length  SHAPE_Area  Low_vs_Lowmod_pct  \n",
       "163646         0.2      0.100076     0.00047          65.751326  "
      ]
     },
     "execution_count": 20,
     "metadata": {},
     "output_type": "execute_result"
    }
   ],
   "source": [
    "#Added column with the results of low vs. lowmod pct\n",
    "percentage_dict = dict(sorted_result)\n",
    "\n",
    "\n",
    "updated_data.loc[:, 'Low_vs_Lowmod_pct'] = updated_data['BLKGRP'].map(percentage_dict)\n",
    "\n",
    "\n",
    "\n",
    "updated_data.head(1)"
   ]
  },
  {
   "cell_type": "code",
   "execution_count": 23,
   "id": "d8cb3960",
   "metadata": {},
   "outputs": [],
   "source": [
    "updated_data.to_csv('Multnomah_County_All_Columns.csv', index=False)"
   ]
  },
  {
   "cell_type": "code",
   "execution_count": 24,
   "id": "40103f7d",
   "metadata": {},
   "outputs": [],
   "source": [
    "import csv\n",
    "import json\n",
    "\n",
    "csv_file_path = 'Multnomah_County_All_Columns.csv'\n",
    "json_file_path = 'Oregon_Multnomah.json'\n",
    "\n",
    "# Read the CSV file and convert it to a list of dictionaries\n",
    "csv_data = []\n",
    "with open(csv_file_path, 'r') as csv_file:\n",
    "    csv_reader = csv.DictReader(csv_file)\n",
    "    for row in csv_reader:\n",
    "        csv_data.append(row)\n",
    "\n",
    "# Write the CSV data to a JSON file\n",
    "with open(json_file_path, 'w') as json_file:\n",
    "    json.dump(csv_data, json_file, indent=4)"
   ]
  },
  {
   "cell_type": "code",
   "execution_count": null,
   "id": "eb5143e4",
   "metadata": {},
   "outputs": [],
   "source": []
  }
 ],
 "metadata": {
  "kernelspec": {
   "display_name": "Python 3 (ipykernel)",
   "language": "python",
   "name": "python3"
  },
  "language_info": {
   "codemirror_mode": {
    "name": "ipython",
    "version": 3
   },
   "file_extension": ".py",
   "mimetype": "text/x-python",
   "name": "python",
   "nbconvert_exporter": "python",
   "pygments_lexer": "ipython3",
   "version": "3.9.13"
  }
 },
 "nbformat": 4,
 "nbformat_minor": 5
}
