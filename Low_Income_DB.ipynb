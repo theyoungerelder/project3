{
 "cells": [
  {
   "cell_type": "code",
   "execution_count": 55,
   "id": "392e9ba5",
   "metadata": {},
   "outputs": [],
   "source": [
    "###mongoimport --type csv -d low_income_data -c LIHTCdatasetlatlong --drop --headerline --file LIHTCdatasetlatlong.csv\n",
    "\n",
    "\n",
    "from pymongo import MongoClient\n",
    "from pprint import pprint\n",
    " # Create an instance of MongoClient\n",
    "mongo = MongoClient(port=27017)"
   ]
  },
  {
   "cell_type": "code",
   "execution_count": 56,
   "id": "dde5093d",
   "metadata": {},
   "outputs": [
    {
     "name": "stdout",
     "output_type": "stream",
     "text": [
      "['admin', 'classDB', 'config', 'epa', 'local', 'low_income_data', 'met', 'mydb']\n"
     ]
    }
   ],
   "source": [
    " # confirm that our new database was created == 'low_income_data'\n",
    "print(mongo.list_database_names())\n"
   ]
  },
  {
   "cell_type": "code",
   "execution_count": 57,
   "id": "0c855b94",
   "metadata": {},
   "outputs": [],
   "source": [
    "import requests\n",
    "\n",
    "url = \"https://services.arcgis.com/VTyQ9soqVukalItT/arcgis/rest/services/LOW_MOD_INCOME_BY_BG/FeatureServer/12/query?where=Countyname%20%3D%20%27MULTNOMAH%20COUNTY%27%20AND%20Stusab%20%3D%20%27OR%27&outFields=GEOID,Source,geoname,Stusab,Countyname,State,County,Tract,BLKGRP,Low,Lowmod,Lmmi,Lowmoduniv,Lowmod_pct,Shape__Area,Shape__Length&outSR=4326&f=json\"\n",
    "\n",
    "response = requests.get(url)\n",
    "data = response.json()"
   ]
  },
  {
   "cell_type": "code",
   "execution_count": 58,
   "id": "c00b183d",
   "metadata": {},
   "outputs": [],
   "source": [
    "\n",
    "\n",
    "\n",
    "db = mongo.get_database('low_income_data')\n"
   ]
  },
  {
   "cell_type": "code",
   "execution_count": 59,
   "id": "2b8c39f1",
   "metadata": {},
   "outputs": [
    {
     "data": {
      "text/plain": [
       "<pymongo.results.InsertManyResult at 0x22be90cca80>"
      ]
     },
     "execution_count": 59,
     "metadata": {},
     "output_type": "execute_result"
    }
   ],
   "source": [
    "#New collection for block group info\n",
    "new_collection_name = 'block_group_data'\n",
    "\n",
    "\n",
    "collection = db[new_collection_name]\n",
    "collection.insert_many(data['features'])"
   ]
  },
  {
   "cell_type": "code",
   "execution_count": 60,
   "id": "268cb905",
   "metadata": {},
   "outputs": [
    {
     "name": "stdout",
     "output_type": "stream",
     "text": [
      "['LIHTCdatasetlatlong', 'block_group_data']\n"
     ]
    }
   ],
   "source": [
    "\n",
    "db = mongo['low_income_data']\n",
    "print(db.list_collection_names())"
   ]
  },
  {
   "cell_type": "code",
   "execution_count": 61,
   "id": "c7b39d16",
   "metadata": {},
   "outputs": [
    {
     "name": "stdout",
     "output_type": "stream",
     "text": [
      "{'Compliance Monitoring Status': 'Not Indicated',\n",
      " 'HUD ID Number:': 'ORA00000002',\n",
      " 'Project Address:': '11908 SE ANKENY ST',\n",
      " 'Project City:': 'PORTLAND',\n",
      " 'Project Name:': 'ANKENY WOODS ARMS',\n",
      " 'Project State:': 'OR',\n",
      " 'Project ZIP Code:': 97216,\n",
      " \"Project's Latitude:\": 45.521598815918,\n",
      " \"Project's Longitude:\": -122.5401306152,\n",
      " 'Total Low-Income Units:': '',\n",
      " 'Total Number of Units:': 40.0,\n",
      " 'Unique 2010 Census Tract Identifier Code:': 41051008202,\n",
      " '_id': ObjectId('64ae22fdfc231f0c5eb3d804')}\n"
     ]
    }
   ],
   "source": [
    "pprint(db.LIHTCdatasetlatlong.find_one())"
   ]
  },
  {
   "cell_type": "code",
   "execution_count": 63,
   "id": "5110ade3",
   "metadata": {},
   "outputs": [
    {
     "name": "stdout",
     "output_type": "stream",
     "text": [
      "{'_id': ObjectId('64ae230722b72e98645389e2'),\n",
      " 'attributes': {'BLKGRP': '1',\n",
      "                'County': '051',\n",
      "                'Countyname': 'Multnomah County',\n",
      "                'GEOID': '410510001001',\n",
      "                'Lmmi': '295',\n",
      "                'Low': '40',\n",
      "                'Lowmod': '125',\n",
      "                'Lowmod_pct': 0.2,\n",
      "                'Lowmoduniv': '625',\n",
      "                'Shape__Area': 8308247.140625,\n",
      "                'Shape__Length': 14442.273538802,\n",
      "                'Source': '2015ACS',\n",
      "                'State': '41',\n",
      "                'Stusab': 'OR',\n",
      "                'Tract': '000100',\n",
      "                'geoname': 'Block Group 1, Census Tract 1, Multnomah County, '\n",
      "                           'Oregon'},\n",
      " 'geometry': {'rings': [[[-122.668525473754, 45.4896394642819],\n",
      "                         [-122.666924475593, 45.4935994641659],\n",
      "                         [-122.665467475576, 45.4979194648102],\n",
      "                         [-122.665117475772, 45.5011894645835],\n",
      "                         [-122.664106475818, 45.5012714648912],\n",
      "                         [-122.662170475227, 45.501429465485],\n",
      "                         [-122.661725475887, 45.5014624651984],\n",
      "                         [-122.661168476393, 45.5015034654832],\n",
      "                         [-122.661089475852, 45.5015084653009],\n",
      "                         [-122.661061475364, 45.501442465279],\n",
      "                         [-122.661004475463, 45.5013154654677],\n",
      "                         [-122.661020475357, 45.5012954654961],\n",
      "                         [-122.661007475836, 45.5012764653591],\n",
      "                         [-122.660975476049, 45.5011394654737],\n",
      "                         [-122.660906475554, 45.5009254656843],\n",
      "                         [-122.660868475021, 45.5008534658841],\n",
      "                         [-122.66087747614, 45.5008334657484],\n",
      "                         [-122.66056547597, 45.4998544653731],\n",
      "                         [-122.660103474216, 45.4979024652261],\n",
      "                         [-122.659289473906, 45.4957954656341],\n",
      "                         [-122.658391473931, 45.4937884653607],\n",
      "                         [-122.658313473215, 45.493615465701],\n",
      "                         [-122.658020473312, 45.4930794650121],\n",
      "                         [-122.657779473287, 45.492688464863],\n",
      "                         [-122.657554473157, 45.4922754651188],\n",
      "                         [-122.657185473086, 45.4918534654143],\n",
      "                         [-122.656752472542, 45.4914324657129],\n",
      "                         [-122.656421473004, 45.4911444652651],\n",
      "                         [-122.655912472293, 45.4908264656838],\n",
      "                         [-122.655738472216, 45.4907384651063],\n",
      "                         [-122.65543647299, 45.4905874655911],\n",
      "                         [-122.655028472561, 45.490425465294],\n",
      "                         [-122.654905472538, 45.4903664651245],\n",
      "                         [-122.654873472751, 45.490425465294],\n",
      "                         [-122.654606471889, 45.4903714653014],\n",
      "                         [-122.654446472055, 45.4903494651496],\n",
      "                         [-122.654242472739, 45.4903344652415],\n",
      "                         [-122.653218471468, 45.4903404660869],\n",
      "                         [-122.651166472323, 45.4903344658713],\n",
      "                         [-122.65113747201, 45.4902524653797],\n",
      "                         [-122.650982471301, 45.4896194664606],\n",
      "                         [-122.650796471529, 45.4888674657666],\n",
      "                         [-122.650689471398, 45.4885264662527],\n",
      "                         [-122.650414471039, 45.4875534659128],\n",
      "                         [-122.650335470498, 45.4873104654283],\n",
      "                         [-122.650081470953, 45.486454465922],\n",
      "                         [-122.649974470823, 45.4862084654072],\n",
      "                         [-122.649880471112, 45.4859424653211],\n",
      "                         [-122.649782471202, 45.4857054655241],\n",
      "                         [-122.649615470798, 45.485400465814],\n",
      "                         [-122.649591470508, 45.4853284663168],\n",
      "                         [-122.649583471011, 45.485230465961],\n",
      "                         [-122.649607470402, 45.4839264652701],\n",
      "                         [-122.649623470295, 45.4835604653245],\n",
      "                         [-122.649635469991, 45.483123465887],\n",
      "                         [-122.649648469511, 45.4826824655218],\n",
      "                         [-122.649655470082, 45.4823694650318],\n",
      "                         [-122.649665470128, 45.4816704651815],\n",
      "                         [-122.649579469914, 45.4808514650174],\n",
      "                         [-122.649486470028, 45.4800354655719],\n",
      "                         [-122.649403469289, 45.479335465507],\n",
      "                         [-122.649375468801, 45.4790504656439],\n",
      "                         [-122.649327469121, 45.4786204656859],\n",
      "                         [-122.649244468382, 45.4779004649567],\n",
      "                         [-122.649175468785, 45.477339464901],\n",
      "                         [-122.649159468891, 45.4771874651021],\n",
      "                         [-122.649073468678, 45.4764744656741],\n",
      "                         [-122.649006467832, 45.4759114646953],\n",
      "                         [-122.648961468525, 45.4755344654592],\n",
      "                         [-122.648916468319, 45.4751604652471],\n",
      "                         [-122.648829467382, 45.4744464656805],\n",
      "                         [-122.648771467656, 45.4739504651191],\n",
      "                         [-122.648741468417, 45.4737394650515],\n",
      "                         [-122.649994468219, 45.473711464607],\n",
      "                         [-122.651728468246, 45.473691464281],\n",
      "                         [-122.651787468696, 45.4736904645795],\n",
      "                         [-122.651880468582, 45.4736804650435],\n",
      "                         [-122.65199346856, 45.4736564646383],\n",
      "                         [-122.652118469132, 45.4736134642016],\n",
      "                         [-122.652253468851, 45.4735404644251],\n",
      "                         [-122.652378468524, 45.4734284646879],\n",
      "                         [-122.652461468365, 45.473289464412],\n",
      "                         [-122.652580468191, 45.4729614651618],\n",
      "                         [-122.652939468216, 45.4720244647566],\n",
      "                         [-122.65299046827, 45.471794465033],\n",
      "                         [-122.653000468315, 45.4714974647928],\n",
      "                         [-122.653116468666, 45.4714624650475],\n",
      "                         [-122.653701468647, 45.4714594645644],\n",
      "                         [-122.654219468681, 45.4710834642711],\n",
      "                         [-122.65499146826, 45.4707384645582],\n",
      "                         [-122.655510468119, 45.4705114639001],\n",
      "                         [-122.65697946873, 45.4702494643491],\n",
      "                         [-122.659005468834, 45.4698994638373],\n",
      "                         [-122.661254468522, 45.4688944629861],\n",
      "                         [-122.661242468826, 45.4683924632983],\n",
      "                         [-122.661732469271, 45.4683914635028],\n",
      "                         [-122.661678468844, 45.4661904636073],\n",
      "                         [-122.661068468749, 45.4661904636073],\n",
      "                         [-122.661078467896, 45.4657594633307],\n",
      "                         [-122.661072468947, 45.4655784632494],\n",
      "                         [-122.661056468155, 45.4650494631577],\n",
      "                         [-122.661552468448, 45.4650464635932],\n",
      "                         [-122.661763468335, 45.4650454637384],\n",
      "                         [-122.661805468168, 45.4650454637384],\n",
      "                         [-122.662124468908, 45.4650454637384],\n",
      "                         [-122.663774468371, 45.4650484633029],\n",
      "                         [-122.664113469203, 45.4656074631692],\n",
      "                         [-122.665861468575, 45.4652854624185],\n",
      "                         [-122.666180469315, 45.4652274622326],\n",
      "                         [-122.666498468434, 45.4651684621343],\n",
      "                         [-122.666948469595, 45.4692144630892],\n",
      "                         [-122.667166470053, 45.4711794626544],\n",
      "                         [-122.667568471532, 45.4747884631768],\n",
      "                         [-122.667853471938, 45.4764834631726],\n",
      "                         [-122.668343472382, 45.4793914633128],\n",
      "                         [-122.66915947324, 45.4842424632106],\n",
      "                         [-122.668525473754, 45.4896394642819]]]}}\n"
     ]
    }
   ],
   "source": [
    "pprint(db.block_group_data.find_one())"
   ]
  },
  {
   "cell_type": "code",
   "execution_count": null,
   "id": "79eec27d",
   "metadata": {},
   "outputs": [],
   "source": []
  },
  {
   "cell_type": "code",
   "execution_count": null,
   "id": "4ec5aea3",
   "metadata": {},
   "outputs": [],
   "source": [
    "\n"
   ]
  },
  {
   "cell_type": "code",
   "execution_count": null,
   "id": "8ea314a6",
   "metadata": {},
   "outputs": [],
   "source": []
  },
  {
   "cell_type": "code",
   "execution_count": null,
   "id": "5467c184",
   "metadata": {},
   "outputs": [],
   "source": []
  },
  {
   "cell_type": "code",
   "execution_count": null,
   "id": "3f91ab12",
   "metadata": {},
   "outputs": [],
   "source": []
  },
  {
   "cell_type": "code",
   "execution_count": null,
   "id": "7681232e",
   "metadata": {},
   "outputs": [],
   "source": []
  },
  {
   "cell_type": "code",
   "execution_count": null,
   "id": "50e31e2d",
   "metadata": {},
   "outputs": [],
   "source": []
  }
 ],
 "metadata": {
  "kernelspec": {
   "display_name": "Python 3 (ipykernel)",
   "language": "python",
   "name": "python3"
  },
  "language_info": {
   "codemirror_mode": {
    "name": "ipython",
    "version": 3
   },
   "file_extension": ".py",
   "mimetype": "text/x-python",
   "name": "python",
   "nbconvert_exporter": "python",
   "pygments_lexer": "ipython3",
   "version": "3.9.13"
  }
 },
 "nbformat": 4,
 "nbformat_minor": 5
}
